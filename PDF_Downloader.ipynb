{
 "cells": [
  {
   "cell_type": "code",
   "execution_count": 1,
   "metadata": {},
   "outputs": [],
   "source": [
    "import os\n",
    "import requests\n",
    "from urllib.parse import urljoin\n",
    "from bs4 import BeautifulSoup"
   ]
  },
  {
   "cell_type": "code",
   "execution_count": 3,
   "metadata": {},
   "outputs": [
    {
     "name": "stdout",
     "output_type": "stream",
     "text": [
      "Enter the link to scrape: https://archive.parrotsec.org/parrot/misc/openbooks/security/\n",
      "Name the folder to save your files: security\n"
     ]
    }
   ],
   "source": [
    "url_to_scrape = input(\"Enter the link to scrape: \")\n",
    "\n",
    "folder_location = str(os.getcwd())+ '/' + str(input(\"Name the folder to save your files: \"))\n",
    "\n",
    "if not os.path.exists(folder_location):os.mkdir(folder_location)\n",
    "\n",
    "response = requests.get(url_to_scrape)\n",
    "\n",
    "soup= BeautifulSoup(response.text, \"html.parser\")   \n",
    "\n",
    "for link in soup.select(\"a[href$='.pdf']\"):\n",
    "    #You can change the \".pdf\" above to any other extension you want in order to get the files you want\n",
    "    file = os.path.join(folder_location,link['href'].split('/')[-1])\n",
    "    with open(file, 'wb') as f:\n",
    "        f.write(requests.get(url_to_scrapejoin(url_to_scrape,link['href'])).content)"
   ]
  }
 ],
 "metadata": {
  "kernelspec": {
   "display_name": "Python 3",
   "language": "python",
   "name": "python3"
  },
  "language_info": {
   "codemirror_mode": {
    "name": "ipython",
    "version": 3
   },
   "file_extension": ".py",
   "mimetype": "text/x-python",
   "name": "python",
   "nbconvert_exporter": "python",
   "pygments_lexer": "ipython3",
   "version": "3.7.3"
  }
 },
 "nbformat": 4,
 "nbformat_minor": 2
}
